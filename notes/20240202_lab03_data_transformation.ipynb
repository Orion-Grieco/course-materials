{
  "nbformat": 4,
  "nbformat_minor": 0,
  "metadata": {
    "colab": {
      "provenance": []
    },
    "kernelspec": {
      "name": "python3",
      "display_name": "Python 3"
    },
    "language_info": {
      "name": "python"
    }
  },
  "cells": [
    {
      "cell_type": "code",
      "source": [
        "# first block\n",
        "\n",
        "import numpy as np\n",
        "import matplotlib.pyplot as plt\n",
        "from google.colab import files"
      ],
      "metadata": {
        "id": "aLjTw1PkyN3Y"
      },
      "execution_count": 1,
      "outputs": []
    },
    {
      "cell_type": "code",
      "source": [
        "# second block\n",
        "\n",
        "fh = files.upload()"
      ],
      "metadata": {
        "id": "vkRTaS-VN4ns"
      },
      "execution_count": null,
      "outputs": []
    },
    {
      "cell_type": "code",
      "source": [
        "# third block\n",
        "\n",
        "def format_sample(sample: str):\n",
        "  \"\"\"Reformat text to numbers.\"\"\"\n",
        "  try:\n",
        "    return float(sample)\n",
        "  except:\n",
        "    return None"
      ],
      "metadata": {
        "id": "0SvKQelQ3tZR"
      },
      "execution_count": 3,
      "outputs": []
    },
    {
      "cell_type": "code",
      "execution_count": 4,
      "metadata": {
        "id": "wP0FvNqlwAPs"
      },
      "outputs": [],
      "source": [
        "# fourth block\n",
        "\n",
        "datafile = \"data.md\"\n",
        "header = True\n",
        "\n",
        "datamat = [] # this will hold data in a matrix\n",
        "variables = []\n",
        "\n",
        "datalines = open(datafile, newline='\\n').readlines()\n",
        "for line in datalines:\n",
        "  split_line = line.rstrip().split('\\t')\n",
        "  if header:\n",
        "    variables.append(split_line)\n",
        "    header = False\n",
        "  else:\n",
        "    datamat.append([format_sample(split_line[i]) for i in range(len(split_line))])\n",
        "\n",
        "datamat = np.matrix(datamat)\n",
        "variables = np.matrix(variables)\n"
      ]
    },
    {
      "cell_type": "code",
      "source": [
        "# fifth block\n",
        "\n",
        "print(variables)\n",
        "\n",
        "# TODO: how many variables are there?"
      ],
      "metadata": {
        "id": "C7g9rUpa_tfp"
      },
      "execution_count": null,
      "outputs": []
    },
    {
      "cell_type": "code",
      "source": [
        "# sixth block\n",
        "\n",
        "# define python variables that match the data variables for easier manipulation in the future\n",
        "[order_in_pattern, pattern, rawdata, sign,\n",
        "         transformation1, transformation2, transformation3,\n",
        "         distance, transformation4, y] = np.arange(variables.size)\n",
        "\n",
        "print(order_in_pattern)\n",
        "print(pattern)\n",
        "# TODO: print out the rest of the values in the [] above"
      ],
      "metadata": {
        "id": "00OPHbXA_rCn"
      },
      "execution_count": null,
      "outputs": []
    },
    {
      "cell_type": "code",
      "source": [
        "datamat"
      ],
      "metadata": {
        "id": "Q74jpFRGw6O1"
      },
      "execution_count": null,
      "outputs": []
    },
    {
      "cell_type": "code",
      "source": [
        "(variables == 'transformation1').argmax()\n",
        "\n",
        "# Why does the number 4 come out? What does 4 refer to?"
      ],
      "metadata": {
        "id": "jHdk8GMJ6Zad"
      },
      "execution_count": null,
      "outputs": []
    },
    {
      "cell_type": "code",
      "source": [
        "datamat[:,(variables == 'rawdata').argmax()].astype(float)"
      ],
      "metadata": {
        "id": "210wNzS00lpc"
      },
      "execution_count": null,
      "outputs": []
    },
    {
      "cell_type": "code",
      "source": [
        "datamat[:,rawdata].astype(float)"
      ],
      "metadata": {
        "id": "ibjkDbftCfHX"
      },
      "execution_count": null,
      "outputs": []
    },
    {
      "cell_type": "code",
      "source": [
        "datamat[:,transformation1] = np.log2(datamat[:,rawdata].astype(float))\n",
        "datamat[:,transformation2] = 10*datamat[:,transformation1].astype(float)\n",
        "datamat[:,transformation3] = np.multiply(datamat[:,sign].astype(float), datamat[:,transformation2].astype(float))\n",
        "datamat[:,distance] = 60-datamat[:,transformation3].astype(float)\n",
        "datamat[:,transformation4] = datamat[:,transformation3].astype(float)+2*datamat[:,distance].astype(float)"
      ],
      "metadata": {
        "id": "-3CRhggG8dew"
      },
      "execution_count": null,
      "outputs": []
    },
    {
      "cell_type": "code",
      "source": [
        "plt.figure(figsize=(10,8))\n",
        "plt.plot(datamat[:,transformation1])\n",
        "plt.grid()\n",
        "# TODO: write inside the \"\" a title for the plot\n",
        "plt.title(\"\")\n",
        "# TODO: write inside the \"\" a label for the x axis\n",
        "plt.xlabel(\"\")\n",
        "# TODO: write inside the \"\" a label for the y axis\n",
        "plt.ylabel(\"\")\n",
        "plt.ylim((-35, 160))"
      ],
      "metadata": {
        "id": "PWBK8K-Tgsoy"
      },
      "execution_count": null,
      "outputs": []
    },
    {
      "cell_type": "code",
      "source": [
        "plt.figure(figsize=(10,8))\n",
        "plt.plot(datamat[:,transformation2])\n",
        "plt.grid()\n",
        "# TODO: write inside the \"\" a title for the plot\n",
        "plt.title(\"\")\n",
        "# TODO: write inside the \"\" a label for the x axis\n",
        "plt.xlabel(\"\")\n",
        "# TODO: write inside the \"\" a label for the y axis\n",
        "plt.ylabel(\"\")\n",
        "plt.ylim((-35, 160))"
      ],
      "metadata": {
        "id": "DFkmQGEShXDO"
      },
      "execution_count": null,
      "outputs": []
    },
    {
      "cell_type": "code",
      "source": [
        "plt.figure(figsize=(10,8))\n",
        "plt.plot(datamat[:,transformation3])\n",
        "plt.grid()\n",
        "# TODO: write inside the \"\" a title for the plot\n",
        "plt.title(\"\")\n",
        "# TODO: write inside the \"\" a label for the x axis\n",
        "plt.xlabel(\"\")\n",
        "# TODO: write inside the \"\" a label for the y axis\n",
        "plt.ylabel(\"\")\n",
        "plt.ylim((-35, 160))"
      ],
      "metadata": {
        "id": "ShcrZdnjhq7T"
      },
      "execution_count": null,
      "outputs": []
    },
    {
      "cell_type": "code",
      "source": [
        "plt.figure(figsize=(10,8))\n",
        "plt.plot(datamat[:,transformation4])\n",
        "plt.grid()\n",
        "# TODO: write inside the \"\" a title for the plot\n",
        "plt.title(\"\")\n",
        "# TODO: write inside the \"\" a label for the x axis\n",
        "plt.xlabel(\"\")\n",
        "# TODO: write inside the \"\" a label for the y axis\n",
        "plt.ylabel(\"\")\n",
        "plt.ylim((-35, 160))"
      ],
      "metadata": {
        "id": "kKbdJYzdhuBX"
      },
      "execution_count": null,
      "outputs": []
    },
    {
      "cell_type": "code",
      "source": [
        "# Last block\n",
        "\n",
        "# TODO: find a fig size that makes the grid square so that you can see the gatoreyes\n",
        "plt.figure(figsize=(10,1))\n",
        "# TODO: note what is different about the code here vs the code above\n",
        "plt.plot(datamat[:,transformation3], datamat[:,y], 'g*-')\n",
        "plt.plot(datamat[:,transformation4], datamat[:,y], 'g*-')\n",
        "plt.grid()\n",
        "# TODO: write inside the \"\" a title for the plot\n",
        "plt.title(\"\")\n",
        "# TODO: write inside the \"\" a label for the x axis\n",
        "plt.xlabel(\"\")\n",
        "# TODO: write inside the \"\" a label for the y axis\n",
        "plt.ylabel(\"\")\n",
        "plt.ylim((-35, 160))"
      ],
      "metadata": {
        "id": "m2aneCimiIOW"
      },
      "execution_count": null,
      "outputs": []
    }
  ]
}