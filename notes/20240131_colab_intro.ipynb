{
 "cells": [
  {
   "cell_type": "markdown",
   "metadata": {
    "id": "ZHf_yheDJK9f"
   },
   "source": [
    "# Welcome to Google Colab"
   ]
  },
  {
   "cell_type": "markdown",
   "metadata": {
    "id": "N0n3EytvHjQu"
   },
   "source": [
    "Text boxes render Markdown!\n",
    "\n",
    "- Markdown is the same text language that GitHub README uses\n",
    "- Here is [link to Markdown resources](https://www.markdownguide.org/extended-syntax/#fenced-code-blocks)"
   ]
  },
  {
   "cell_type": "code",
   "execution_count": 1,
   "metadata": {
    "id": "OYtSjMB4Ha3K"
   },
   "outputs": [],
   "source": [
    "# Code blocks contain python code\n",
    "# If the line starts with a `#` it is a comment\n",
    "\n",
    "# You wont have to create your own code\n",
    "# but Colab and python notebooks are very convenient to run code"
   ]
  },
  {
   "cell_type": "code",
   "execution_count": 5,
   "metadata": {
    "id": "ICfKB-MzIWrH"
   },
   "outputs": [
    {
     "name": "stdout",
     "output_type": "stream",
     "text": [
      "Hello, my last name is Grieco\n"
     ]
    }
   ],
   "source": [
    "# <---------Click the play button to run\n",
    "\n",
    "last_name = \"Grieco\"\n",
    "print(f\"Hello, my last name is {last_name}\")"
   ]
  },
  {
   "cell_type": "code",
   "execution_count": 7,
   "metadata": {
    "id": "CHqbasruImSn"
   },
   "outputs": [
    {
     "name": "stdout",
     "output_type": "stream",
     "text": [
      "the total of 1+2+3+4+5 is 15\n"
     ]
    }
   ],
   "source": [
    "# <---------Click the play button to run\n",
    "total = 1+2+3+4+5\n",
    "print(f\"the total of 1+2+3+4+5 is {total}\")"
   ]
  },
  {
   "cell_type": "markdown",
   "metadata": {
    "id": "INqwngDZJZYY"
   },
   "source": [
    "# TODOs"
   ]
  },
  {
   "cell_type": "markdown",
   "metadata": {
    "id": "vh6ZgKJRIwom"
   },
   "source": [
    "Make sure your Lab 2 Dot to Dot is updated with the correct files from the starter. These updates make the lab shorter!!!\n",
    "\n",
    "- [Updated README.md](https://github.com/allegheny-college-cmpsc-105-spring-2024/dot-to-dot-data-orgnization-transformation-starter/blob/main/README.md)\n",
    "- [Updated config/gatorgrade.yml](https://github.com/allegheny-college-cmpsc-105-spring-2024/dot-to-dot-data-orgnization-transformation-starter/blob/main/config/gatorgrade.yml)\n",
    "\n",
    "\n",
    "\n"
   ]
  },
  {
   "cell_type": "markdown",
   "metadata": {
    "id": "iTrSeBE2OU-7"
   },
   "source": [
    "Get an ssh key\n",
    "\n",
    "- In VS Code, open a terminal\n",
    "  - Terminal > New Terminal\n",
    "  - Check that it is set to `zsh`, `bash` or `git bash`\n",
    "  -\n",
    "    >Terminal is a program that allows you to access everything on your\n",
    "    >computer without GUI (graphical user interface). It works by typing in\n",
    "    >commands. Another name for the terminal is the command line\n",
    "    >![](https://learn.microsoft.com/en-us/windows/terminal/images/retro-command-prompt.png)\n",
    "  - In terminal type `ssh-keygen -t rsa -b 4096 -C \"youremail@allegheny.edu\"`\n",
    "  - hit enter to save in default location\n",
    "  - enter a passphrase (Don't forget this!!)\n",
    "  - print out public key by typing `cat ~/.ssh/id_rsa.pub`\n",
    "  - copy everything including email\n",
    "  - paste into GitHub: Profile pic > settings > SSH Keys > New Key\n",
    "  - [Video on the topic](https://youtu.be/qEPjUGQFmzQ?feature=shared&t=175)"
   ]
  },
  {
   "cell_type": "markdown",
   "metadata": {
    "id": "eMafxRoVOWef"
   },
   "source": [
    "Test if you have git\n",
    "\n",
    "- in the terminal type `git --version`"
   ]
  },
  {
   "cell_type": "markdown",
   "metadata": {
    "id": "R2rfjmIxOlg8"
   },
   "source": [
    "Git commands to save your LOCAL work onto GitHUB!\n",
    "\n",
    "- `git add .`\n",
    "- `git commit -m \"Update\"`\n",
    "- `git push origin main`\n",
    "\n",
    "\n",
    "Check GitHub after you do this!"
   ]
  }
 ],
 "metadata": {
  "colab": {
   "provenance": []
  },
  "kernelspec": {
   "display_name": "Python 3 (ipykernel)",
   "language": "python",
   "name": "python3"
  },
  "language_info": {
   "codemirror_mode": {
    "name": "ipython",
    "version": 3
   },
   "file_extension": ".py",
   "mimetype": "text/x-python",
   "name": "python",
   "nbconvert_exporter": "python",
   "pygments_lexer": "ipython3",
   "version": "3.10.12"
  }
 },
 "nbformat": 4,
 "nbformat_minor": 4
}
